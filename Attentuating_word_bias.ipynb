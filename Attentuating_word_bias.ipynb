{
  "cells": [
    {
      "cell_type": "markdown",
      "metadata": {
        "id": "view-in-github",
        "colab_type": "text"
      },
      "source": [
        "<a href=\"https://colab.research.google.com/github/rajasriramoju/CS269-Attenuating-Bias/blob/main/Attentuating_word_bias.ipynb\" target=\"_parent\"><img src=\"https://colab.research.google.com/assets/colab-badge.svg\" alt=\"Open In Colab\"/></a>"
      ]
    },
    {
      "cell_type": "code",
      "execution_count": null,
      "metadata": {
        "id": "zVgrafYZwR2C"
      },
      "outputs": [],
      "source": [
        "import gensim\n",
        "import json\n",
        "import numpy as np\n",
        "from scipy.spatial.distance import cosine\n",
        "from scipy.stats import spearmanr"
      ]
    },
    {
      "cell_type": "markdown",
      "metadata": {
        "id": "oZHCFs8rwkO3"
      },
      "source": [
        "## Part I: Pretained Embeddings\n",
        "\n",
        "The paper has looked into several word embeddings:\n",
        "- GloVe embedding trained on Wiki dump\n",
        "- Word2Vec embedding trained on Google News\n",
        "\n",
        "**We are using the latter embedding for this tutorial.**\n",
        "\n",
        "Given a pretained embedding, the paper evaluates its bias using several metrics:\n",
        "- WEAT\n",
        "- EQT\n",
        "- ECT\n",
        "\n",
        "**Here, we are going to only use ECT metrics to be concise.**"
      ]
    },
    {
      "cell_type": "code",
      "execution_count": null,
      "metadata": {
        "colab": {
          "background_save": true,
          "base_uri": "https://localhost:8080/"
        },
        "id": "Pf5s7qL-wj2B",
        "outputId": "ff7cb22b-2201-435b-80b9-c5b4eb371e2a"
      },
      "outputs": [
        {
          "name": "stdout",
          "output_type": "stream",
          "text": [
            "[==================================================] 100.0% 1662.8/1662.8MB downloaded\n",
            "Pre-trained model has been loaded.\n"
          ]
        }
      ],
      "source": [
        "import gensim.downloader\n",
        "model = gensim.downloader.load('word2vec-google-news-300')\n",
        "print('Pre-trained model has been loaded.')"
      ]
    },
    {
      "cell_type": "code",
      "execution_count": null,
      "metadata": {
        "colab": {
          "background_save": true
        },
        "id": "dbM8Z8TswcVd"
      },
      "outputs": [],
      "source": [
        "def processList(l):\n",
        "\tfor i in range(len(l)):\n",
        "\t\tl[i] = l[i].strip().lower()\n",
        "\treturn l\n",
        "\n",
        "def meanList(l):\n",
        "\tvec= [0] * 300\n",
        "\tfor i in range(len(l)):\n",
        "\t\tvec = vec + model.get_vector(l[i])\n",
        "\treturn vec/float(len(l))"
      ]
    },
    {
      "cell_type": "code",
      "execution_count": null,
      "metadata": {
        "colab": {
          "background_save": true
        },
        "id": "3568rmlLycP9",
        "outputId": "53ef442b-0fa2-4331-9548-a52c2d3c0702"
      },
      "outputs": [
        {
          "name": "stdout",
          "output_type": "stream",
          "text": [
            "['detective', 'ambassador', 'coach', 'officer', 'epidemiologist', 'rabbi', 'ballplayer', 'secretary', 'actress', 'manager', 'scientist', 'cardiologist', 'actor', 'industrialist', 'welder', 'biologist', 'undersecretary', 'captain', 'economist', 'politician', 'baron', 'pollster', 'environmentalist', 'photographer', 'mediator', 'character', 'housewife', 'jeweler', 'physicist', 'hitman', 'geologist', 'painter', 'employee', 'stockbroker', 'footballer', 'tycoon', 'dad', 'patrolman', 'chancellor', 'advocate', 'bureaucrat', 'strategist', 'pathologist', 'psychologist', 'campaigner', 'magistrate', 'judge', 'illustrator', 'surgeon', 'nurse', 'missionary', 'stylist', 'solicitor', 'scholar', 'naturalist', 'artist', 'mathematician', 'businesswoman', 'investigator', 'curator', 'soloist', 'servant', 'broadcaster', 'fisherman', 'landlord', 'housekeeper', 'crooner', 'archaeologist', 'teenager', 'councilman', 'attorney', 'choreographer', 'principal', 'parishioner', 'therapist', 'administrator', 'skipper', 'aide', 'chef', 'gangster', 'astronomer', 'educator', 'lawyer', 'midfielder', 'evangelist', 'novelist', 'senator', 'collector', 'goalkeeper', 'singer', 'acquaintance', 'preacher', 'trumpeter', 'colonel', 'trooper', 'understudy', 'paralegal', 'philosopher', 'councilor', 'violinist', 'priest', 'cellist', 'hooker', 'jurist', 'commentator', 'gardener', 'journalist', 'warrior', 'cameraman', 'wrestler', 'hairdresser', 'lawmaker', 'psychiatrist', 'clerk', 'writer', 'handyman', 'broker', 'boss', 'lieutenant', 'neurosurgeon', 'protagonist', 'sculptor', 'nanny', 'teacher', 'homemaker', 'choreographer', 'planner', 'laborer', 'programmer', 'philanthropist', 'waiter', 'barrister', 'trader', 'swimmer', 'adventurer', 'monk', 'bookkeeper', 'radiologist', 'columnist', 'banker', 'maestro', 'pianist', 'pharmacist', 'chemist', 'pediatrician', 'lecturer', 'foreman', 'cleric', 'musician', 'cabbie', 'fireman', 'farmer', 'headmaster', 'soldier', 'carpenter', 'substitute', 'director', 'cinematographer', 'warden', 'marksman', 'congressman', 'prisoner', 'librarian', 'magician', 'screenwriter', 'provost', 'saxophonist', 'plumber', 'correspondent', 'organist', 'baker', 'doctor', 'constable', 'treasurer', 'superintendent', 'boxer', 'physician', 'infielder', 'businessman', 'protege']\n"
          ]
        }
      ],
      "source": [
        "occupations = open('wordList.txt','r')\n",
        "occupations = processList(occupations.readlines())\n",
        "print(occupations)"
      ]
    },
    {
      "cell_type": "markdown",
      "metadata": {
        "id": "jojE1uNSz6-a"
      },
      "source": [
        "### Using the top-10 most common male and female names"
      ]
    },
    {
      "cell_type": "code",
      "execution_count": null,
      "metadata": {
        "colab": {
          "background_save": true
        },
        "id": "bvIN3mAUzShc",
        "outputId": "bdbcd3e5-0dc8-48bb-f2ff-0f653700f28c"
      },
      "outputs": [
        {
          "data": {
            "text/plain": [
              "(300,)"
            ]
          },
          "execution_count": null,
          "metadata": {},
          "output_type": "execute_result"
        }
      ],
      "source": [
        "maleNames = open('maleNames.txt','r') \n",
        "m = meanList(processList(maleNames.readlines())) \n",
        "m.shape"
      ]
    },
    {
      "cell_type": "code",
      "execution_count": null,
      "metadata": {
        "colab": {
          "background_save": true
        },
        "id": "X-cGJNFHzxwQ",
        "outputId": "c967245f-72b0-4814-9318-85e2febe77ea"
      },
      "outputs": [
        {
          "data": {
            "text/plain": [
              "(300,)"
            ]
          },
          "execution_count": null,
          "metadata": {},
          "output_type": "execute_result"
        }
      ],
      "source": [
        "femaleNames =open('femaleNames.txt','r') \n",
        "s = meanList(processList(femaleNames.readlines()))\n",
        "s.shape"
      ]
    },
    {
      "cell_type": "markdown",
      "metadata": {
        "id": "CY5j3GRg0U9Y"
      },
      "source": [
        "### ECT Score Implementation"
      ]
    },
    {
      "cell_type": "code",
      "execution_count": null,
      "metadata": {
        "colab": {
          "background_save": true
        },
        "id": "nqrk3bZ9z3sT"
      },
      "outputs": [],
      "source": [
        "def ect(mean1, mean2, wordlist):\n",
        "    sim1=[0]*len(wordlist)\n",
        "    sim2=[0]*len(wordlist)\n",
        "\n",
        "    for i in range(0,len(wordlist)):\n",
        "        sim1[i] = 1 - cosine(mean1, model.get_vector(wordlist[i]))\n",
        "        sim2[i] = 1 - cosine(mean2, model.get_vector(wordlist[i]))\n",
        "    return spearmanr(sim1, sim2)"
      ]
    },
    {
      "cell_type": "code",
      "execution_count": null,
      "metadata": {
        "colab": {
          "background_save": true
        },
        "id": "YWHecNUM0X7D",
        "outputId": "0c22a131-e0a0-4e9e-95d8-68f2d34297ec"
      },
      "outputs": [
        {
          "data": {
            "text/plain": [
              "SpearmanrResult(correlation=0.7438807204756531, pvalue=5.611070211556043e-33)"
            ]
          },
          "execution_count": null,
          "metadata": {},
          "output_type": "execute_result"
        }
      ],
      "source": [
        "ect(m,s,occupations)"
      ]
    },
    {
      "cell_type": "markdown",
      "metadata": {
        "id": "-fvzrX8q14nn"
      },
      "source": [
        "\n",
        "\n",
        "Neutralization should ideally bring the Spearman coefficient towards 1."
      ]
    },
    {
      "cell_type": "markdown",
      "metadata": {
        "id": "rLqZE6fZ1_xR"
      },
      "source": [
        "## Part II: Debiasing the embedding\n",
        "\n",
        "The paper has looked into several methods of debiasing that includes\n",
        "- subtraction\n",
        "- projection\n",
        "- hard debiasing\n",
        "- their own solution that avoids crowd-sourcing\n",
        "\n",
        "We will look into the last solution as it is the paper's main contribution.\n",
        "\n"
      ]
    },
    {
      "cell_type": "markdown",
      "metadata": {
        "id": "FBjJHIjd3Is2"
      },
      "source": [
        "### Step 1: Computing mean of equality set\n",
        "\n",
        "---\n",
        "\n"
      ]
    },
    {
      "cell_type": "code",
      "execution_count": null,
      "metadata": {
        "colab": {
          "background_save": true
        },
        "id": "XCmI2Cor3H8J"
      },
      "outputs": [],
      "source": [
        "equality_set = open('equality_sets.txt', 'r')\n",
        "mw_list = []\n",
        "sw_list = []\n",
        "for pair in equality_set:\n",
        "    mw, sw = pair.split(' ')[0], pair.split(' ')[1]\n",
        "    mw_list.append(mw)\n",
        "    sw_list.append(sw)\n"
      ]
    },
    {
      "cell_type": "code",
      "execution_count": null,
      "metadata": {
        "colab": {
          "background_save": true
        },
        "id": "NAWruvm_1Vwk",
        "outputId": "8e3c3ebc-6766-4954-e7e3-dcb208652ce6"
      },
      "outputs": [
        {
          "name": "stdout",
          "output_type": "stream",
          "text": [
            "67\n"
          ]
        }
      ],
      "source": [
        "print(len(mw_list))"
      ]
    },
    {
      "cell_type": "code",
      "execution_count": null,
      "metadata": {
        "colab": {
          "background_save": true
        },
        "id": "l7kZuUQQ4J_W"
      },
      "outputs": [],
      "source": [
        "mu = [0] * 300\n",
        "for i in range(len(mw_list)):\n",
        "    \n",
        "    mu = mu + model.get_vector(mw_list[i])\n",
        "    mu = mu + model.get_vector(sw_list[i])\n"
      ]
    },
    {
      "cell_type": "code",
      "execution_count": null,
      "metadata": {
        "colab": {
          "background_save": true
        },
        "id": "Ae_5DD2h4uWu"
      },
      "outputs": [],
      "source": [
        "mu = mu / (len(mw_list)*2)"
      ]
    },
    {
      "cell_type": "markdown",
      "metadata": {
        "id": "LInzx6rd5wTc"
      },
      "source": [
        "### Step 2: Compute the gender directional vector"
      ]
    },
    {
      "cell_type": "code",
      "execution_count": null,
      "metadata": {
        "colab": {
          "background_save": true
        },
        "id": "OJ0NBLWw5ril"
      },
      "outputs": [],
      "source": [
        "v_b = (s - m)/np.linalg.norm(s-m)"
      ]
    },
    {
      "cell_type": "markdown",
      "metadata": {
        "id": "5ljefmwH6IgW"
      },
      "source": [
        "### Step 3: Compute the inherent bias $\\beta$"
      ]
    },
    {
      "cell_type": "code",
      "execution_count": null,
      "metadata": {
        "colab": {
          "background_save": true
        },
        "id": "_dX0ay8P6M18"
      },
      "outputs": [],
      "source": [
        "def compute_inherent_bias(word):\n",
        "    return np.dot(word, v_b) - np.dot(mu, v_b)"
      ]
    },
    {
      "cell_type": "markdown",
      "metadata": {
        "id": "lIjM-B1P6oD8"
      },
      "source": [
        "### Step 4: Compute the redidual orthogonal component"
      ]
    },
    {
      "cell_type": "code",
      "execution_count": null,
      "metadata": {
        "colab": {
          "background_save": true
        },
        "id": "4Wa5p0vT6r6m"
      },
      "outputs": [],
      "source": [
        "def compute_orthor(word):\n",
        "    return word - np.dot(word, v_b) * v_b"
      ]
    },
    {
      "cell_type": "markdown",
      "metadata": {
        "id": "lJ_BNQ4c60un"
      },
      "source": [
        "### Step 5: Compiling everything up\n"
      ]
    },
    {
      "cell_type": "code",
      "execution_count": null,
      "metadata": {
        "colab": {
          "background_save": true
        },
        "id": "RAUdId9j64kO"
      },
      "outputs": [],
      "source": [
        "def compute_debiased_vector(word, f):\n",
        "    return mu + compute_orthor(word) + compute_inherent_bias(word) * f * v_b"
      ]
    },
    {
      "cell_type": "markdown",
      "metadata": {
        "id": "Bjrj77c47NYX"
      },
      "source": [
        "### Step 6: Experimenting on different functions\n",
        "\n"
      ]
    },
    {
      "cell_type": "code",
      "execution_count": null,
      "metadata": {
        "colab": {
          "background_save": true
        },
        "id": "sehzeela7Lhi"
      },
      "outputs": [],
      "source": [
        "def f1(sigma, word):\n",
        "    return sigma**2 / (np.linalg.norm(compute_orthor(word) + 1.))**2"
      ]
    },
    {
      "cell_type": "code",
      "execution_count": null,
      "metadata": {
        "colab": {
          "background_save": true
        },
        "id": "cljZkjCSBq7e"
      },
      "outputs": [],
      "source": [
        "def f2(sigma, word):\n",
        "    n = np.linalg.norm(compute_orthor(word))\n",
        "    return np.exp(-n**2/sigma**2)"
      ]
    },
    {
      "cell_type": "code",
      "execution_count": null,
      "metadata": {
        "colab": {
          "background_save": true
        },
        "id": "w3KJ0w_JBrDU"
      },
      "outputs": [],
      "source": [
        "def f3(sigma, word):\n",
        "    n = np.linalg.norm(compute_orthor(word))\n",
        "    return max(0, sigma/2*n)"
      ]
    },
    {
      "cell_type": "code",
      "execution_count": null,
      "metadata": {
        "colab": {
          "background_save": true
        },
        "id": "OeMpAQXS71tK"
      },
      "outputs": [],
      "source": [
        "def ect_debiased(mean1, mean2, wordlist, func):\n",
        "    sim1=[0]*len(wordlist)\n",
        "    sim2=[0]*len(wordlist)\n",
        "\n",
        "    for i in range(0,len(wordlist)):\n",
        "        debiased_vector = compute_debiased_vector(model.get_vector(wordlist[i]), func(1., model.get_vector(wordlist[i])))\n",
        "        sim1[i] = 1 - cosine(mean1, debiased_vector)\n",
        "        sim2[i] = 1 - cosine(mean2, debiased_vector)\n",
        "    return spearmanr(sim1, sim2)"
      ]
    },
    {
      "cell_type": "code",
      "execution_count": null,
      "metadata": {
        "colab": {
          "background_save": true
        },
        "id": "hs1uWMuk77kF",
        "outputId": "b653752d-8a20-4600-9fd8-84b357325ad0"
      },
      "outputs": [
        {
          "data": {
            "text/plain": [
              "SpearmanrResult(correlation=0.9979896478179859, pvalue=3.318968210457974e-215)"
            ]
          },
          "execution_count": null,
          "metadata": {},
          "output_type": "execute_result"
        }
      ],
      "source": [
        "ect_debiased(m,s,occupations,f1)"
      ]
    },
    {
      "cell_type": "code",
      "execution_count": null,
      "metadata": {
        "colab": {
          "background_save": true
        },
        "id": "yBOb8uh2CqwJ",
        "outputId": "2ddf25e2-3028-4990-a2bf-90f28593b2d1"
      },
      "outputs": [
        {
          "data": {
            "text/plain": [
              "SpearmanrResult(correlation=0.9979196867389803, pvalue=6.948905672415539e-214)"
            ]
          },
          "execution_count": null,
          "metadata": {},
          "output_type": "execute_result"
        }
      ],
      "source": [
        "ect_debiased(m,s,occupations,f2)"
      ]
    },
    {
      "cell_type": "code",
      "execution_count": null,
      "metadata": {
        "colab": {
          "background_save": true
        },
        "id": "ll8EEpA_Cy7_",
        "outputId": "59d8c3c9-1b29-4d70-be8a-efd2940223a5"
      },
      "outputs": [
        {
          "data": {
            "text/plain": [
              "SpearmanrResult(correlation=0.4338008722500409, pvalue=1.1769026641293876e-09)"
            ]
          },
          "execution_count": null,
          "metadata": {},
          "output_type": "execute_result"
        }
      ],
      "source": [
        "ect_debiased(m,s,occupations,f3)"
      ]
    }
  ],
  "metadata": {
    "colab": {
      "collapsed_sections": [],
      "machine_shape": "hm",
      "name": "Attentuating word bias.ipynb",
      "provenance": [],
      "include_colab_link": true
    },
    "kernelspec": {
      "display_name": "Python 3",
      "name": "python3"
    },
    "language_info": {
      "name": "python"
    }
  },
  "nbformat": 4,
  "nbformat_minor": 0
}