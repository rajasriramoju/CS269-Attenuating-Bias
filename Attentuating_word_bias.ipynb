{
  "cells": [
    {
      "cell_type": "markdown",
      "metadata": {
        "id": "view-in-github",
        "colab_type": "text"
      },
      "source": [
        "<a href=\"https://colab.research.google.com/github/rajasriramoju/CS269-Attenuating-Bias/blob/main/Attentuating_word_bias.ipynb\" target=\"_parent\"><img src=\"https://colab.research.google.com/assets/colab-badge.svg\" alt=\"Open In Colab\"/></a>"
      ]
    },
    {
      "cell_type": "markdown",
      "source": [
        "​​[Paper](https://arxiv.org/pdf/1901.07656.pdf)\n",
        " \n",
        "Parts of coode being used from: https://github.com/sunipa/Attenuating-Bias-in-Word-Vec\n"
      ],
      "metadata": {
        "id": "xl2Z_2kdeNSA"
      }
    },
    {
      "cell_type": "code",
      "execution_count": 1,
      "metadata": {
        "id": "zVgrafYZwR2C"
      },
      "outputs": [],
      "source": [
        "import gensim\n",
        "import json\n",
        "import numpy as np\n",
        "from scipy.spatial.distance import cosine\n",
        "from scipy.stats import spearmanr"
      ]
    },
    {
      "cell_type": "markdown",
      "metadata": {
        "id": "oZHCFs8rwkO3"
      },
      "source": [
        "## Part I: Pretained Embeddings\n",
        "\n",
        "The paper has looked into several word embeddings:\n",
        "- GloVe embedding trained on Wiki dump\n",
        "- Word2Vec embedding trained on Google News\n",
        "\n",
        "**We are using the latter embedding for this tutorial.**\n",
        "\n",
        "Given a pretained embedding, the paper evaluates its bias using several metrics:\n",
        "- WEAT\n",
        "- EQT\n",
        "- ECT\n",
        "\n",
        "**Here, we are going to only use ECT metrics to be concise.**"
      ]
    },
    {
      "cell_type": "code",
      "execution_count": 2,
      "metadata": {
        "colab": {
          "base_uri": "https://localhost:8080/"
        },
        "id": "Pf5s7qL-wj2B",
        "outputId": "e618a501-419a-4dcb-c780-10024bc85cc5"
      },
      "outputs": [
        {
          "output_type": "stream",
          "name": "stdout",
          "text": [
            "[==================================================] 100.0% 1662.8/1662.8MB downloaded\n",
            "Pre-trained model has been loaded.\n"
          ]
        }
      ],
      "source": [
        "import gensim.downloader\n",
        "model = gensim.downloader.load('word2vec-google-news-300')\n",
        "print('Pre-trained model has been loaded.')"
      ]
    },
    {
      "cell_type": "code",
      "source": [
        "from google.colab import drive\n",
        "drive.mount('/content/drive')"
      ],
      "metadata": {
        "colab": {
          "base_uri": "https://localhost:8080/"
        },
        "id": "ppUdkeGwYu87",
        "outputId": "3b21f3f2-f72e-4aca-aafa-44e802854247"
      },
      "execution_count": 3,
      "outputs": [
        {
          "output_type": "stream",
          "name": "stdout",
          "text": [
            "Mounted at /content/drive\n"
          ]
        }
      ]
    },
    {
      "cell_type": "code",
      "execution_count": 4,
      "metadata": {
        "id": "dbM8Z8TswcVd"
      },
      "outputs": [],
      "source": [
        "def processList(l):\n",
        "\tfor i in range(len(l)):\n",
        "\t\tl[i] = l[i].strip().lower()\n",
        "\treturn l\n",
        "\n",
        "def meanList(l):\n",
        "\tvec= [0] * 300\n",
        "\tfor i in range(len(l)):\n",
        "\t\tvec = vec + model.get_vector(l[i])\n",
        "\treturn vec/float(len(l))"
      ]
    },
    {
      "cell_type": "code",
      "execution_count": 5,
      "metadata": {
        "colab": {
          "base_uri": "https://localhost:8080/"
        },
        "id": "3568rmlLycP9",
        "outputId": "0ecdfd13-19cb-4901-abc8-4a7a1c853893"
      },
      "outputs": [
        {
          "output_type": "stream",
          "name": "stdout",
          "text": [
            "['detective', 'ambassador', 'coach', 'officer', 'epidemiologist', 'rabbi', 'ballplayer', 'secretary', 'actress', 'manager', 'scientist', 'cardiologist', 'actor', 'industrialist', 'welder', 'biologist', 'undersecretary', 'captain', 'economist', 'politician', 'baron', 'pollster', 'environmentalist', 'photographer', 'mediator', 'character', 'housewife', 'jeweler', 'physicist', 'hitman', 'geologist', 'painter', 'employee', 'stockbroker', 'footballer', 'tycoon', 'dad', 'patrolman', 'chancellor', 'advocate', 'bureaucrat', 'strategist', 'pathologist', 'psychologist', 'campaigner', 'magistrate', 'judge', 'illustrator', 'surgeon', 'nurse', 'missionary', 'stylist', 'solicitor', 'scholar', 'naturalist', 'artist', 'mathematician', 'businesswoman', 'investigator', 'curator', 'soloist', 'servant', 'broadcaster', 'fisherman', 'landlord', 'housekeeper', 'crooner', 'archaeologist', 'teenager', 'councilman', 'attorney', 'choreographer', 'principal', 'parishioner', 'therapist', 'administrator', 'skipper', 'aide', 'chef', 'gangster', 'astronomer', 'educator', 'lawyer', 'midfielder', 'evangelist', 'novelist', 'senator', 'collector', 'goalkeeper', 'singer', 'acquaintance', 'preacher', 'trumpeter', 'colonel', 'trooper', 'understudy', 'paralegal', 'philosopher', 'councilor', 'violinist', 'priest', 'cellist', 'hooker', 'jurist', 'commentator', 'gardener', 'journalist', 'warrior', 'cameraman', 'wrestler', 'hairdresser', 'lawmaker', 'psychiatrist', 'clerk', 'writer', 'handyman', 'broker', 'boss', 'lieutenant', 'neurosurgeon', 'protagonist', 'sculptor', 'nanny', 'teacher', 'homemaker', 'choreographer', 'planner', 'laborer', 'programmer', 'philanthropist', 'waiter', 'barrister', 'trader', 'swimmer', 'adventurer', 'monk', 'bookkeeper', 'radiologist', 'columnist', 'banker', 'maestro', 'pianist', 'pharmacist', 'chemist', 'pediatrician', 'lecturer', 'foreman', 'cleric', 'musician', 'cabbie', 'fireman', 'farmer', 'headmaster', 'soldier', 'carpenter', 'substitute', 'director', 'cinematographer', 'warden', 'marksman', 'congressman', 'prisoner', 'librarian', 'magician', 'screenwriter', 'provost', 'saxophonist', 'plumber', 'correspondent', 'organist', 'baker', 'doctor', 'constable', 'treasurer', 'superintendent', 'boxer', 'physician', 'infielder', 'businessman', 'protege']\n"
          ]
        }
      ],
      "source": [
        "occupations = open('/content/drive/Shareddrives/CS269-Midterm/Attenuating-Bias-in-Word-Vec-master/wordList.txt','r')\n",
        "occupations = processList(occupations.readlines())\n",
        "print(occupations)"
      ]
    },
    {
      "cell_type": "markdown",
      "metadata": {
        "id": "jojE1uNSz6-a"
      },
      "source": [
        "### Using the top-10 most common male and female names"
      ]
    },
    {
      "cell_type": "code",
      "execution_count": 6,
      "metadata": {
        "colab": {
          "base_uri": "https://localhost:8080/"
        },
        "id": "bvIN3mAUzShc",
        "outputId": "1f93c8c6-bb6a-43d0-eb54-7fc2d0e70541"
      },
      "outputs": [
        {
          "output_type": "execute_result",
          "data": {
            "text/plain": [
              "(300,)"
            ]
          },
          "metadata": {},
          "execution_count": 6
        }
      ],
      "source": [
        "maleNames = open('/content/drive/Shareddrives/CS269-Midterm/Attenuating-Bias-in-Word-Vec-master/maleNames.txt','r') \n",
        "m = meanList(processList(maleNames.readlines())) \n",
        "m.shape"
      ]
    },
    {
      "cell_type": "code",
      "execution_count": 7,
      "metadata": {
        "colab": {
          "base_uri": "https://localhost:8080/"
        },
        "id": "X-cGJNFHzxwQ",
        "outputId": "9d461828-1d42-4f95-b467-6c98674257f4"
      },
      "outputs": [
        {
          "output_type": "execute_result",
          "data": {
            "text/plain": [
              "(300,)"
            ]
          },
          "metadata": {},
          "execution_count": 7
        }
      ],
      "source": [
        "femaleNames =open('/content/drive/Shareddrives/CS269-Midterm/Attenuating-Bias-in-Word-Vec-master/femaleNames.txt','r') \n",
        "s = meanList(processList(femaleNames.readlines()))\n",
        "s.shape"
      ]
    },
    {
      "cell_type": "markdown",
      "metadata": {
        "id": "CY5j3GRg0U9Y"
      },
      "source": [
        "### ECT Score Implementation"
      ]
    },
    {
      "cell_type": "code",
      "execution_count": 8,
      "metadata": {
        "id": "nqrk3bZ9z3sT"
      },
      "outputs": [],
      "source": [
        "def ect(mean1, mean2, wordlist):\n",
        "    sim1=[0]*len(wordlist)\n",
        "    sim2=[0]*len(wordlist)\n",
        "\n",
        "    for i in range(0,len(wordlist)):\n",
        "        sim1[i] = 1 - cosine(mean1, model.get_vector(wordlist[i]))\n",
        "        sim2[i] = 1 - cosine(mean2, model.get_vector(wordlist[i]))\n",
        "    return spearmanr(sim1, sim2)"
      ]
    },
    {
      "cell_type": "code",
      "execution_count": 9,
      "metadata": {
        "colab": {
          "base_uri": "https://localhost:8080/"
        },
        "id": "YWHecNUM0X7D",
        "outputId": "47b61b74-9d3b-4d9e-c8db-46891f28dca3"
      },
      "outputs": [
        {
          "output_type": "execute_result",
          "data": {
            "text/plain": [
              "SpearmanrResult(correlation=0.7438807204756531, pvalue=5.611070211556043e-33)"
            ]
          },
          "metadata": {},
          "execution_count": 9
        }
      ],
      "source": [
        "ect(m,s,occupations)"
      ]
    },
    {
      "cell_type": "code",
      "source": [
        "import numpy as np"
      ],
      "metadata": {
        "id": "GZCn4_pFoFPj"
      },
      "execution_count": 10,
      "outputs": []
    },
    {
      "cell_type": "code",
      "source": [
        "# john, mary, cinematographer\n",
        "male_occ = np.dot(model.get_vector('john'), model.get_vector('cinematographer'))\n",
        "print(male_occ)"
      ],
      "metadata": {
        "colab": {
          "base_uri": "https://localhost:8080/"
        },
        "id": "jO125MJkbI7y",
        "outputId": "88450afd-4dbc-433f-a2a3-17759d062c3f"
      },
      "execution_count": 76,
      "outputs": [
        {
          "output_type": "stream",
          "name": "stdout",
          "text": [
            "1.000562\n"
          ]
        }
      ]
    },
    {
      "cell_type": "code",
      "source": [
        "# john, mary, cinematographer\n",
        "female_occ = np.dot(model.get_vector('mary'), model.get_vector('cinematographer'))\n",
        "print(female_occ)"
      ],
      "metadata": {
        "colab": {
          "base_uri": "https://localhost:8080/"
        },
        "id": "_bRDf_Lzmedi",
        "outputId": "ba065e34-ecb2-4120-99e9-749055d49cab"
      },
      "execution_count": 77,
      "outputs": [
        {
          "output_type": "stream",
          "name": "stdout",
          "text": [
            "0.26169828\n"
          ]
        }
      ]
    },
    {
      "cell_type": "code",
      "source": [
        "male_names = ['john','william','george','louis','michael','tony','andrew','daniel','scott','jackson']\n",
        "female_names = ['mary','victoria','carolina','maria','anne','kelly','marie','anna','sarah','jane']"
      ],
      "metadata": {
        "id": "uDqnSXv4DUhI"
      },
      "execution_count": 71,
      "outputs": []
    },
    {
      "cell_type": "markdown",
      "metadata": {
        "id": "-fvzrX8q14nn"
      },
      "source": [
        "\n",
        "\n",
        "Neutralization should ideally bring the Spearman coefficient towards 1."
      ]
    },
    {
      "cell_type": "markdown",
      "metadata": {
        "id": "rLqZE6fZ1_xR"
      },
      "source": [
        "## Part II: Debiasing the embedding\n",
        "\n",
        "The paper has looked into several methods of debiasing that includes\n",
        "- subtraction\n",
        "- projection\n",
        "- hard debiasing\n",
        "- their own solution that avoids crowd-sourcing\n",
        "\n",
        "We will look into the last solution as it is the paper's main contribution.\n",
        "\n"
      ]
    },
    {
      "cell_type": "markdown",
      "metadata": {
        "id": "FBjJHIjd3Is2"
      },
      "source": [
        "### Step 1: Computing mean of equality set\n",
        "\n",
        "---\n",
        "\n"
      ]
    },
    {
      "cell_type": "code",
      "execution_count": 42,
      "metadata": {
        "id": "XCmI2Cor3H8J"
      },
      "outputs": [],
      "source": [
        "equality_set = open('/content/drive/Shareddrives/CS269-Midterm/Attenuating-Bias-in-Word-Vec-master/equality_sets.txt', 'r')\n",
        "mw_list = []\n",
        "sw_list = []\n",
        "for pair in equality_set:\n",
        "    mw, sw = pair.split(' ')[0], pair.split(' ')[1]\n",
        "    mw_list.append(mw)\n",
        "    sw_list.append(sw)\n"
      ]
    },
    {
      "cell_type": "code",
      "execution_count": 43,
      "metadata": {
        "colab": {
          "base_uri": "https://localhost:8080/"
        },
        "id": "NAWruvm_1Vwk",
        "outputId": "c639f892-5c67-415c-acec-b0f30e49f0d5"
      },
      "outputs": [
        {
          "output_type": "stream",
          "name": "stdout",
          "text": [
            "67\n"
          ]
        }
      ],
      "source": [
        "print(len(mw_list))"
      ]
    },
    {
      "cell_type": "code",
      "execution_count": 44,
      "metadata": {
        "id": "l7kZuUQQ4J_W"
      },
      "outputs": [],
      "source": [
        "mu = [0] * 300\n",
        "for i in range(len(mw_list)):\n",
        "    \n",
        "    mu = mu + model.get_vector(mw_list[i])\n",
        "    mu = mu + model.get_vector(sw_list[i])\n"
      ]
    },
    {
      "cell_type": "code",
      "execution_count": 45,
      "metadata": {
        "id": "Ae_5DD2h4uWu"
      },
      "outputs": [],
      "source": [
        "mu = mu / (len(mw_list)*2)"
      ]
    },
    {
      "cell_type": "markdown",
      "metadata": {
        "id": "LInzx6rd5wTc"
      },
      "source": [
        "### Step 2: Compute the gender directional vector"
      ]
    },
    {
      "cell_type": "code",
      "execution_count": 46,
      "metadata": {
        "id": "OJ0NBLWw5ril"
      },
      "outputs": [],
      "source": [
        "v_b = (s - m)/np.linalg.norm(s-m)"
      ]
    },
    {
      "cell_type": "markdown",
      "metadata": {
        "id": "5ljefmwH6IgW"
      },
      "source": [
        "### Step 3: Compute the inherent bias $\\beta$"
      ]
    },
    {
      "cell_type": "code",
      "execution_count": 47,
      "metadata": {
        "id": "_dX0ay8P6M18"
      },
      "outputs": [],
      "source": [
        "def compute_inherent_bias(word):\n",
        "    return np.dot(word, v_b) - np.dot(mu, v_b)"
      ]
    },
    {
      "cell_type": "markdown",
      "metadata": {
        "id": "lIjM-B1P6oD8"
      },
      "source": [
        "### Step 4: Compute the redidual orthogonal component"
      ]
    },
    {
      "cell_type": "code",
      "execution_count": 48,
      "metadata": {
        "id": "4Wa5p0vT6r6m"
      },
      "outputs": [],
      "source": [
        "def compute_orthor(word):\n",
        "    return word - np.dot(word, v_b) * v_b"
      ]
    },
    {
      "cell_type": "markdown",
      "metadata": {
        "id": "lJ_BNQ4c60un"
      },
      "source": [
        "### Step 5: Compiling everything up\n"
      ]
    },
    {
      "cell_type": "code",
      "execution_count": 49,
      "metadata": {
        "id": "RAUdId9j64kO"
      },
      "outputs": [],
      "source": [
        "def compute_debiased_vector(word, f):\n",
        "    return mu + compute_orthor(word) + compute_inherent_bias(word) * f * v_b"
      ]
    },
    {
      "cell_type": "markdown",
      "metadata": {
        "id": "Bjrj77c47NYX"
      },
      "source": [
        "### Step 6: Experimenting on different functions\n",
        "\n"
      ]
    },
    {
      "cell_type": "code",
      "execution_count": 50,
      "metadata": {
        "id": "sehzeela7Lhi"
      },
      "outputs": [],
      "source": [
        "def f1(sigma, word):\n",
        "    return sigma**2 / (np.linalg.norm(compute_orthor(word) + 1.))**2"
      ]
    },
    {
      "cell_type": "code",
      "execution_count": 51,
      "metadata": {
        "id": "cljZkjCSBq7e"
      },
      "outputs": [],
      "source": [
        "def f2(sigma, word):\n",
        "    n = np.linalg.norm(compute_orthor(word))\n",
        "    return np.exp(-n**2/sigma**2)"
      ]
    },
    {
      "cell_type": "code",
      "execution_count": 52,
      "metadata": {
        "id": "w3KJ0w_JBrDU"
      },
      "outputs": [],
      "source": [
        "def f3(sigma, word):\n",
        "    n = np.linalg.norm(compute_orthor(word))\n",
        "    return max(0, sigma/2*n)"
      ]
    },
    {
      "cell_type": "code",
      "execution_count": 53,
      "metadata": {
        "id": "OeMpAQXS71tK"
      },
      "outputs": [],
      "source": [
        "def ect_debiased(mean1, mean2, wordlist, func):\n",
        "    sim1=[0]*len(wordlist)\n",
        "    sim2=[0]*len(wordlist)\n",
        "\n",
        "    for i in range(0,len(wordlist)):\n",
        "        debiased_vector = compute_debiased_vector(model.get_vector(wordlist[i]), func(1., model.get_vector(wordlist[i])))\n",
        "        sim1[i] = 1 - cosine(mean1, debiased_vector)\n",
        "        sim2[i] = 1 - cosine(mean2, debiased_vector)\n",
        "    return spearmanr(sim1, sim2)"
      ]
    },
    {
      "cell_type": "code",
      "execution_count": 54,
      "metadata": {
        "colab": {
          "base_uri": "https://localhost:8080/"
        },
        "id": "hs1uWMuk77kF",
        "outputId": "7923064d-e2ac-4f5d-e5ee-86872ec5fe8f"
      },
      "outputs": [
        {
          "output_type": "execute_result",
          "data": {
            "text/plain": [
              "SpearmanrResult(correlation=0.9979896478179859, pvalue=3.318968210457974e-215)"
            ]
          },
          "metadata": {},
          "execution_count": 54
        }
      ],
      "source": [
        "ect_debiased(m,s,occupations,f1)"
      ]
    },
    {
      "cell_type": "code",
      "execution_count": 55,
      "metadata": {
        "colab": {
          "base_uri": "https://localhost:8080/"
        },
        "id": "yBOb8uh2CqwJ",
        "outputId": "99502254-9199-4b52-8a23-e80dc88321c5"
      },
      "outputs": [
        {
          "output_type": "execute_result",
          "data": {
            "text/plain": [
              "SpearmanrResult(correlation=0.9979196867389803, pvalue=6.948905672415539e-214)"
            ]
          },
          "metadata": {},
          "execution_count": 55
        }
      ],
      "source": [
        "ect_debiased(m,s,occupations,f2)"
      ]
    },
    {
      "cell_type": "code",
      "execution_count": 56,
      "metadata": {
        "colab": {
          "base_uri": "https://localhost:8080/"
        },
        "id": "ll8EEpA_Cy7_",
        "outputId": "3e0bc912-be5d-46f3-fee2-331e9bdcb67a"
      },
      "outputs": [
        {
          "output_type": "execute_result",
          "data": {
            "text/plain": [
              "SpearmanrResult(correlation=0.4338008722500409, pvalue=1.1769026641293876e-09)"
            ]
          },
          "metadata": {},
          "execution_count": 56
        }
      ],
      "source": [
        "ect_debiased(m,s,occupations,f3)"
      ]
    },
    {
      "cell_type": "code",
      "source": [
        "# john, mary, cinematographer\n",
        "debiased_vec = compute_debiased_vector(model.get_vector('cinematographer'), f1(1., model.get_vector('cinematographer')))\n",
        "male_occ = np.dot(model.get_vector('john'), debiased_vec)\n",
        "print(male_occ)"
      ],
      "metadata": {
        "colab": {
          "base_uri": "https://localhost:8080/"
        },
        "id": "kW_-8g0B8t5B",
        "outputId": "c24911e6-e246-4972-9d6f-7f6683f48dc1"
      },
      "execution_count": 78,
      "outputs": [
        {
          "output_type": "stream",
          "name": "stdout",
          "text": [
            "2.431401215696626\n"
          ]
        }
      ]
    },
    {
      "cell_type": "code",
      "source": [
        "# john, mary, cinematographer\n",
        "female_occ = np.dot(model.get_vector('mary'), debiased_vec)\n",
        "print(female_occ)"
      ],
      "metadata": {
        "colab": {
          "base_uri": "https://localhost:8080/"
        },
        "id": "-szgSipl8uis",
        "outputId": "6628af08-5215-4b64-b10e-db134a079f71"
      },
      "execution_count": 79,
      "outputs": [
        {
          "output_type": "stream",
          "name": "stdout",
          "text": [
            "1.7626235745686012\n"
          ]
        }
      ]
    }
  ],
  "metadata": {
    "colab": {
      "collapsed_sections": [],
      "machine_shape": "hm",
      "name": "Attentuating word bias.ipynb",
      "provenance": [],
      "include_colab_link": true
    },
    "kernelspec": {
      "display_name": "Python 3",
      "name": "python3"
    },
    "language_info": {
      "name": "python"
    },
    "accelerator": "GPU"
  },
  "nbformat": 4,
  "nbformat_minor": 0
}